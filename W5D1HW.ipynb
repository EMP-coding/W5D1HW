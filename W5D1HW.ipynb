{
 "cells": [
  {
   "cell_type": "markdown",
   "metadata": {},
   "source": [
    "Week 5 - Monday Questions\n",
    "\n",
    "1. How many actors are there with the last name ‘Wahlberg’?"
   ]
  },
  {
   "cell_type": "markdown",
   "metadata": {},
   "source": [
    "My Answer: 2"
   ]
  },
  {
   "cell_type": "markdown",
   "metadata": {},
   "source": [
    "2. How many payments were made between $3.99 and $5.99?"
   ]
  },
  {
   "cell_type": "markdown",
   "metadata": {},
   "source": [
    "My Answer: 5607"
   ]
  },
  {
   "cell_type": "markdown",
   "metadata": {},
   "source": [
    "3. What films have exactly 7 copies? (search in inventory)"
   ]
  },
  {
   "cell_type": "markdown",
   "metadata": {},
   "source": [
    "My Answer: Affair Prejudice\n",
    "Aladdin Calendar\n",
    "Alamo Videotape\n",
    "Alaska Phantom\n",
    "Amistad Midsummer\n",
    "Arachnophobia Rollercoaster\n",
    "Arizona Bang\n",
    "Armageddon Lost\n",
    "Atlantis Cause\n",
    "Basic Easy\n",
    "Blackout Private\n",
    "Calendar Gunfight\n",
    "Camelot Vacation\n",
    "Campus Remember\n",
    "Caper Motions\n",
    "Carrie Bunch\n",
    "Chance Resurrection\n",
    "Chill Luck\n",
    "Clash Freddy\n",
    "Closer Bang\n",
    "Clueless Bucket\n",
    "Coma Head\n",
    "Coneheads Smoochy\n",
    "Contact Anonymous\n",
    "Deceiver Betrayed\n",
    "Detective Vision\n",
    "Disturbing Scarface\n",
    "Dorado Notting\n",
    "Double Wrath\n",
    "Downhill Enough\n",
    "Durham Panky\n",
    "Earth Vision\n",
    "Effect Gladiator\n",
    "Egg Igby\n",
    "Enemy Odds\n",
    "English Bulworth\n",
    "Fatal Haunted\n",
    "Fiction Christmas\n",
    "Fireball Philadelphia\n",
    "Fish Opus\n",
    "Flamingos Connecticut\n",
    "Forrester Comancheros\n",
    "Gangs Pride\n",
    "Goldfinger Sensibility\n",
    "Goldmine Tycoon\n",
    "Graffiti Love\n",
    "Grapes Fury\n",
    "Half Outfield\n",
    "Hanky October\n",
    "Head Stranger\n",
    "Heartbreakers Bright\n",
    "Hurricane Affair\n",
    "Ice Crossing\n",
    "Idols Snatchers\n",
    "Intentions Empire\n",
    "Intrigue Worst\n",
    "Island Exorcist\n",
    "Jason Trap\n",
    "Jerk Paycheck\n",
    "Knock Warlock\n",
    "Lies Treatment\n",
    "Malkovich Pet\n",
    "Mallrats United\n",
    "Maltese Hope\n",
    "Massacre Usual\n",
    "Minds Truman\n",
    "Money Harold\n",
    "Nightmare Chill\n",
    "None Spiking\n",
    "Orange Grapes\n",
    "Oscar Gold\n",
    "Patton Interview\n",
    "Pelican Comforts\n",
    "Pianist Outfield\n",
    "Pocus Pulp\n",
    "Princess Giant\n",
    "Range Moonwalker\n",
    "Redemption Comforts\n",
    "Reign Gentlemen\n",
    "River Outlaw\n",
    "Robbers Joon\n",
    "Sabrina Midnight\n",
    "Samurai Lion\n",
    "Scorpion Apollo\n",
    "Shepherd Midsummer\n",
    "Shootist Superfly\n",
    "Sleeping Suspects\n",
    "Slums Duck\n",
    "Snatch Slipper\n",
    "Snowman Rollercoaster\n",
    "South Wait\n",
    "Splendor Patton\n",
    "Star Operation\n",
    "Steel Santa\n",
    "Stepmom Dream\n",
    "Story Side\n",
    "Strangelove Desire\n",
    "Strictly Scarface\n",
    "Sun Confessions\n",
    "Suspects Quills\n",
    "Talented Homicide\n",
    "Telegraph Voyage\n",
    "Tights Dawn\n",
    "Timberland Sky\n",
    "Titanic Boondock\n",
    "Tomorrow Hustler\n",
    "Tracy Cider\n",
    "Trading Pinocchio\n",
    "Undefeated Dalmations\n",
    "Videotape Arsenic\n",
    "Voyage Legally\n",
    "Westward Seabiscuit\n",
    "Witches Panic\n",
    "Women Dorado\n",
    "Wonderland Christmas\n",
    "Wrong Behavior"
   ]
  },
  {
   "cell_type": "markdown",
   "metadata": {},
   "source": [
    "4. How many customers have the first name ‘Willie’?"
   ]
  },
  {
   "cell_type": "markdown",
   "metadata": {},
   "source": [
    "My Answer: 2 "
   ]
  },
  {
   "cell_type": "markdown",
   "metadata": {},
   "source": [
    "5. What store employee (get the id) sold the most rentals (use the rental table)?"
   ]
  },
  {
   "cell_type": "markdown",
   "metadata": {},
   "source": [
    "My Answer: Mike Hillyer"
   ]
  },
  {
   "cell_type": "markdown",
   "metadata": {},
   "source": [
    "6. How many unique district names are there?"
   ]
  },
  {
   "cell_type": "markdown",
   "metadata": {},
   "source": [
    "My Answer: 378"
   ]
  },
  {
   "cell_type": "markdown",
   "metadata": {},
   "source": [
    "7. What film has the most actors in it? (use film_actor table and get film_id)"
   ]
  },
  {
   "cell_type": "markdown",
   "metadata": {},
   "source": [
    "My Answer: Lambs Cincinatti "
   ]
  },
  {
   "cell_type": "markdown",
   "metadata": {},
   "source": [
    "8. From store_id 1, how many customers have a last name ending with ‘es’? (use customer table)"
   ]
  },
  {
   "cell_type": "markdown",
   "metadata": {},
   "source": [
    "My Answer: 13"
   ]
  },
  {
   "cell_type": "markdown",
   "metadata": {},
   "source": [
    "9. How many payment amounts (4.99, 5.99, etc.) had a number of rentals above 250 for customers\n",
    "with ids between 380 and 430? (use group by and having > 250)"
   ]
  },
  {
   "cell_type": "markdown",
   "metadata": {},
   "source": [
    "My Answer: 3 <br>\n",
    "0.99 - 269\n",
    "4.99 - 281\n",
    "2.99 - 290"
   ]
  },
  {
   "cell_type": "markdown",
   "metadata": {},
   "source": [
    "\n",
    "10. Within the film table, how many rating categories are there? And what rating has the most\n",
    "movies total?"
   ]
  },
  {
   "cell_type": "markdown",
   "metadata": {},
   "source": [
    "My Answer: 5 rating categories and the rating category with the most movies is PG-13 at 223 movies"
   ]
  }
 ],
 "metadata": {
  "language_info": {
   "name": "python"
  }
 },
 "nbformat": 4,
 "nbformat_minor": 2
}
